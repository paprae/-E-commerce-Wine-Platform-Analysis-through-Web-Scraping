{
 "cells": [
  {
   "cell_type": "markdown",
   "id": "a1f9355e",
   "metadata": {},
   "source": [
    "# Import Essentials Library"
   ]
  },
  {
   "cell_type": "code",
   "execution_count": null,
   "id": "7d78a1f1",
   "metadata": {
    "ExecuteTime": {
     "end_time": "2022-11-02T17:24:39.224126Z",
     "start_time": "2022-11-02T17:24:38.783674Z"
    }
   },
   "outputs": [],
   "source": [
    "import requests\n",
    "from bs4 import BeautifulSoup\n",
    "import selenium\n",
    "from selenium import webdriver\n",
    "from selenium.webdriver.support.ui import WebDriverWait\n",
    "from selenium.webdriver.common.keys import Keys\n",
    "from selenium.webdriver.common.by import By\n",
    "from selenium.webdriver.common.action_chains import ActionChains\n",
    "\n",
    "import pandas as pd\n",
    "import re\n",
    "import time\n",
    "    \n",
    "pd.set_option('display.max_rows', 500)"
   ]
  },
  {
   "cell_type": "markdown",
   "id": "1a0e2cfa",
   "metadata": {},
   "source": [
    "# Create essentials functions for extraction"
   ]
  },
  {
   "cell_type": "code",
   "execution_count": null,
   "id": "8c7d0028",
   "metadata": {
    "ExecuteTime": {
     "end_time": "2022-11-02T17:40:28.621393Z",
     "start_time": "2022-11-02T17:40:28.594148Z"
    },
    "scrolled": true
   },
   "outputs": [],
   "source": [
    "# Create a function to extract all individual link for Beautifulsoup \n",
    "def extract_all_wine_link():\n",
    "    \n",
    "    # set sleep time for browser to wait before any action\n",
    "    sleep_time = 1.5\n",
    "    \n",
    "    # get current height of the browser\n",
    "    current_height = driver.execute_script(\"return document.body.scrollHeight\")\n",
    "    \n",
    "    # if the browser can still load more information the height will be increased.\n",
    "    # so if it increase we will continue to scroll down\n",
    "    while True:\n",
    "        #scroll up to the beginning of the website \n",
    "        driver.execute_script(\"window.scrollTo(0, document.body.scrollHeight)\")\n",
    "        #wait\n",
    "        time.sleep(sleep_time)\n",
    "        #scroll down to the end of the website \n",
    "        latest_height = driver.execute_script(\"return document.body.scrollHeight\")\n",
    "        \n",
    "        # if the height of the website can't be increased, stop the loop\n",
    "        if latest_height == current_height:\n",
    "            break\n",
    "            \n",
    "        print('Current height = ', current_height)\n",
    "        print('Latest height = ', latest_height)\n",
    "        current_height = latest_height\n",
    "        driver.execute_script(\"window.scrollTo(0, document.body.scrollHeight)\")\n",
    "# Create a function to identify the index of wine information\n",
    "def find_metadata(df):\n",
    "    for i in range(len(df)):\n",
    "        if \"/beware of injecting user-generated content into the page here without sanitizing it\" in str(df[i]):\n",
    "            return i\n",
    "        else:\n",
    "            pass\n",
    "        \n",
    "def set_price_range():\n",
    "    time.sleep(2)\n",
    "    driver.maximize_window()\n",
    "    time.sleep(2)\n",
    "    slider1 = driver.find_element_by_xpath('//*[@id=\"explore-page-app\"]/div/div/div[2]/div[1]/div/div[2]/div[2]/div[2]/div/div[4]')\n",
    "    slider2 = driver.find_element_by_xpath('//*[@id=\"explore-page-app\"]/div/div/div[2]/div[1]/div/div[2]/div[2]/div[2]/div/div[5]')\n",
    "    ActionChains(driver).drag_and_drop_by_offset(slider1, -100, 0).perform()\n",
    "    time.sleep(1)\n",
    "    ActionChains(driver).drag_and_drop_by_offset(slider2, 500, 0).perform()\n",
    "\n",
    "def select_wine_from_homepage():\n",
    "    #click wine\n",
    "    time.sleep(2)\n",
    "    wines_button = driver.find_element(By.XPATH,'//*[@id=\"navigation-container\"]/div/div[2]/div/div[1]/div/a')\n",
    "    wines_button.click()\n",
    "    \n",
    "def select_red_wine():\n",
    "    #click red wine\n",
    "    time.sleep(2)\n",
    "    red_wine_button = driver.find_element(By.XPATH,'//*[@id=\"navigation-container\"]/div/div[2]/div/div[1]/div')\n",
    "    red_wine_button.click()\n",
    "    \n",
    "def deselect_white_wine():\n",
    "    #deselect white wine \n",
    "    time.sleep(2)\n",
    "    white_wine_button = driver.find_element(By.XPATH,'//*[@id=\"explore-page-app\"]/div/div/div[2]/div[1]/div/div[1]/div[2]/label[2]/div')\n",
    "    white_wine_button.click()\n",
    "    \n",
    "def deselect_red_wine():\n",
    "    #click deselect red wine\n",
    "    time.sleep(2)\n",
    "    red_wine_button = driver.find_element(By.XPATH,'//*[@id=\"explore-page-app\"]/div/div/div[2]/div[1]/div/div[1]/div[2]/label[1]')\n",
    "    red_wine_button.click()\n",
    "    \n",
    "def select_all_rating():\n",
    "    # select all rating\n",
    "    time.sleep(2)\n",
    "    anyrating_button = driver.find_element(By.XPATH,'//*[@id=\"explore-page-app\"]/div/div/div[2]/div[1]/div/div[3]/label[4]/div[1]')\n",
    "    anyrating_button.click()\n",
    "    \n",
    "def select_sparkling_wine():\n",
    "    #select sparkling\n",
    "    time.sleep(2)\n",
    "    sparkling_button = driver.find_element(By.XPATH,'//*[@id=\"explore-page-app\"]/div/div/div[2]/div[1]/div/div[1]/div[2]/label[3]')\n",
    "    sparkling_button.click()\n",
    "    \n",
    "def select_dessert_wine():\n",
    "    #select dessert\n",
    "    time.sleep(2)\n",
    "    dessert_button = driver.find_element(By.XPATH,'//*[@id=\"explore-page-app\"]/div/div/div[2]/div[1]/div/div[1]/div[2]/label[5]')\n",
    "    dessert_button.click()\n",
    "    \n",
    "def select_fortified_wine():\n",
    "    #select fortified\n",
    "    time.sleep(2)\n",
    "    fortified_button = driver.find_element(By.XPATH,'//*[@id=\"explore-page-app\"]/div/div/div[2]/div[1]/div/div[1]/div[2]/label[6]')\n",
    "    fortified_button.click()\n",
    "    \n",
    "def select_rose_wine():\n",
    "    #select rose\n",
    "    time.sleep(2)\n",
    "    rose_button = driver.find_element(By.XPATH,'//*[@id=\"explore-page-app\"]/div/div/div[2]/div[1]/div/div[1]/div[2]/label[4]')\n",
    "    rose_button.click()\n",
    "    \n",
    "def select_highest_rating():\n",
    "    #select only the highest wine rating\n",
    "    time.sleep(2)\n",
    "    anyrating_button = driver.find_element(By.XPATH,'//*[@id=\"4.2\"]')\n",
    "    anyrating_button.click()\n",
    "    \n",
    "    "
   ]
  },
  {
   "cell_type": "markdown",
   "id": "2f7402ca",
   "metadata": {},
   "source": [
    "# Extract Fortified Wine"
   ]
  },
  {
   "cell_type": "code",
   "execution_count": null,
   "id": "6ffdac48",
   "metadata": {},
   "outputs": [],
   "source": [
    "# Open Chrome Selenium Browser\n",
    "driver = webdriver.Chrome(executable_path=r'./chromedriver')\n",
    "driver.get(\"https://www.vivino.com/GB/en\")\n",
    "driver.maximize_window()"
   ]
  },
  {
   "cell_type": "code",
   "execution_count": null,
   "id": "8d7ea6bf",
   "metadata": {},
   "outputs": [],
   "source": [
    "# select wine category\n",
    "select_wine_from_homepage()"
   ]
  },
  {
   "cell_type": "code",
   "execution_count": null,
   "id": "5e8ece51",
   "metadata": {},
   "outputs": [],
   "source": [
    "# deselect red wine\n",
    "deselect_red_wine()"
   ]
  },
  {
   "cell_type": "code",
   "execution_count": null,
   "id": "64d4f828",
   "metadata": {},
   "outputs": [],
   "source": [
    "# deselect white wine\n",
    "deselect_white_wine()"
   ]
  },
  {
   "cell_type": "code",
   "execution_count": null,
   "id": "4ba21978",
   "metadata": {},
   "outputs": [],
   "source": [
    "# select fortified wine\n",
    "select_fortified_wine()"
   ]
  },
  {
   "cell_type": "code",
   "execution_count": null,
   "id": "bbb5195c",
   "metadata": {},
   "outputs": [],
   "source": [
    "# select all wine rating\n",
    "select_all_rating()"
   ]
  },
  {
   "cell_type": "code",
   "execution_count": null,
   "id": "17c8425a",
   "metadata": {},
   "outputs": [],
   "source": [
    "# select all price range\n",
    "set_price_range()"
   ]
  },
  {
   "cell_type": "code",
   "execution_count": null,
   "id": "871ef2c3",
   "metadata": {},
   "outputs": [],
   "source": [
    "# extract all individual link of white wine\n",
    "extract_all_wine_link()"
   ]
  },
  {
   "cell_type": "code",
   "execution_count": null,
   "id": "559182f0",
   "metadata": {},
   "outputs": [],
   "source": [
    "# Create dataframe to insert the wine data\n",
    "wine_df = pd.DataFrame(columns = ['Name',\n",
    "                            'Company',\n",
    "                            'Origin',\n",
    "                            'Region',\n",
    "                            'Rating',\n",
    "                            'Number of rating',\n",
    "                            'Price',\n",
    "                            'Year'])\n",
    "\n",
    "# locate element containing wine link\n",
    "wine_items = driver.find_elements(By.XPATH,'//a[contains(@class,\"anchor_anchor__m8Qi- wineCard__cardLink--3F_uB\")]')\n",
    "# create a list to store wine lines\n",
    "wine_items_urls = []\n",
    "# insert link into the list\n",
    "for link in wine_items:\n",
    "    wine_items_urls.append(link.get_attribute('href'))\n",
    "     \n",
    "# wine_items_urls = wine_items_urls_bkp\n",
    "\n",
    "for i in range(len(wine_items_urls)):\n",
    "    # get information from wine individual page and extract using Beautifulsoup\n",
    "    headers = {\"User-agent\":\"Mozilla/5.0 (Macintosh; Intel Mac OS X 10_15_7) AppleWebKit/537.36 (KHTML, like Gecko) Chrome/95.0.4638.54 Safari/537.36\"}\n",
    "    page = requests.get(wine_items_urls[i],headers=headers)\n",
    "    parsed_html = BeautifulSoup(page.content, features=\"html.parser\")\n",
    "    # extract the <script> tag from the html\n",
    "    wine_script = parsed_html.find_all(\"script\")\n",
    "    # find the correct index to extract the wine information\n",
    "    wine_metadata = wine_script[find_metadata(wine_script)]\n",
    "    # clean the wine data before converting into json\n",
    "    wine_metadata_1 = str(wine_metadata).split('{\"vintage\"')[1]\n",
    "    wine_metadata_1 = '{\"vintage\"' + wine_metadata_1\n",
    "    \n",
    "#     import json\n",
    "    wine_metadata_2 = wine_metadata_1.rsplit(',\"sold_out', 1)[0]\n",
    "    wine_metadata_2 = wine_metadata_2 + '}'\n",
    "\n",
    "    \n",
    "    # insert wine data into dataframe\n",
    "    try:\n",
    "        import json\n",
    "        json = json.loads(wine_metadata_2)\n",
    "        wine_df.loc[i] = [json['wine']['name'],\n",
    "            json['vintage']['wine']['winery']['name'],\n",
    "            json['wine']['region']['name'],\n",
    "            json['wine']['region']['country']['name'],\n",
    "            json['vintage']['statistics']['ratings_average'],\n",
    "            json['vintage']['statistics']['ratings_count'],\n",
    "            json['price']['amount'],\n",
    "            json['vintage']['year']\n",
    "] \n",
    "            \n",
    "        print(i,'_____',json['wine']['name'])\n",
    "    except:\n",
    "        pass\n",
    "        print(\"Can't extract\")"
   ]
  },
  {
   "cell_type": "code",
   "execution_count": null,
   "id": "7470b9ae",
   "metadata": {},
   "outputs": [],
   "source": [
    "# save fortified wine data to csv\n",
    "wine_df.to_csv('fortified_wine.csv')"
   ]
  },
  {
   "cell_type": "code",
   "execution_count": null,
   "id": "68b261bf",
   "metadata": {},
   "outputs": [],
   "source": [
    "# delete wine dataframe\n",
    "del(wine_df)"
   ]
  },
  {
   "cell_type": "code",
   "execution_count": null,
   "id": "ba816a0e",
   "metadata": {},
   "outputs": [],
   "source": [
    "# close selenium browser\n",
    "driver.close()"
   ]
  },
  {
   "cell_type": "markdown",
   "id": "f3e0d844",
   "metadata": {},
   "source": [
    "# Extract Dessert Wine"
   ]
  },
  {
   "cell_type": "code",
   "execution_count": null,
   "id": "7439b787",
   "metadata": {},
   "outputs": [],
   "source": [
    "# Open Chrome Selenium Browser\n",
    "driver = webdriver.Chrome(executable_path=r'./chromedriver')\n",
    "driver.get(\"https://www.vivino.com/GB/en\")\n",
    "driver.maximize_window()"
   ]
  },
  {
   "cell_type": "code",
   "execution_count": null,
   "id": "a11bfe3f",
   "metadata": {},
   "outputs": [],
   "source": [
    "# select wine category\n",
    "select_wine_from_homepage()"
   ]
  },
  {
   "cell_type": "code",
   "execution_count": null,
   "id": "6639c4ad",
   "metadata": {},
   "outputs": [],
   "source": [
    "# deselect red wine\n",
    "deselect_red_wine()"
   ]
  },
  {
   "cell_type": "code",
   "execution_count": null,
   "id": "d2dd5a28",
   "metadata": {},
   "outputs": [],
   "source": [
    "# deselect white wine\n",
    "deselect_white_wine()"
   ]
  },
  {
   "cell_type": "code",
   "execution_count": null,
   "id": "c0e69860",
   "metadata": {},
   "outputs": [],
   "source": [
    "# select dessert wine\n",
    "select_dessert_wine()"
   ]
  },
  {
   "cell_type": "code",
   "execution_count": null,
   "id": "b583c33c",
   "metadata": {},
   "outputs": [],
   "source": [
    "# select all price range\n",
    "set_price_range()"
   ]
  },
  {
   "cell_type": "code",
   "execution_count": null,
   "id": "b4440174",
   "metadata": {},
   "outputs": [],
   "source": [
    "# select all wine rating\n",
    "select_all_rating()"
   ]
  },
  {
   "cell_type": "code",
   "execution_count": null,
   "id": "7702bea7",
   "metadata": {},
   "outputs": [],
   "source": [
    "# extract all individual link of white wine\n",
    "extract_all_wine_link()"
   ]
  },
  {
   "cell_type": "code",
   "execution_count": null,
   "id": "9b6c93ff",
   "metadata": {},
   "outputs": [],
   "source": [
    "# Create dataframe to insert the wine data\n",
    "wine_df = pd.DataFrame(columns = ['Name',\n",
    "                            'Company',\n",
    "                            'Origin',\n",
    "                            'Region',\n",
    "                            'Rating',\n",
    "                            'Number of rating',\n",
    "                            'Price',\n",
    "                            'Year'])\n",
    "\n",
    "# locate element containing wine link\n",
    "wine_items = driver.find_elements(By.XPATH,'//a[contains(@class,\"anchor_anchor__m8Qi- wineCard__cardLink--3F_uB\")]')\n",
    "# create a list to store wine lines\n",
    "wine_items_urls = []\n",
    "# insert link into the list\n",
    "for link in wine_items:\n",
    "    wine_items_urls.append(link.get_attribute('href'))\n",
    "     \n",
    "# wine_items_urls = wine_items_urls_bkp\n",
    "\n",
    "for i in range(len(wine_items_urls)):\n",
    "    # get information from wine individual page and extract using Beautifulsoup\n",
    "    headers = {\"User-agent\":\"Mozilla/5.0 (Macintosh; Intel Mac OS X 10_15_7) AppleWebKit/537.36 (KHTML, like Gecko) Chrome/95.0.4638.54 Safari/537.36\"}\n",
    "    page = requests.get(wine_items_urls[i],headers=headers)\n",
    "    parsed_html = BeautifulSoup(page.content, features=\"html.parser\")\n",
    "    # extract the <script> tag from the html\n",
    "    wine_script = parsed_html.find_all(\"script\")\n",
    "    # find the correct index to extract the wine information\n",
    "    wine_metadata = wine_script[find_metadata(wine_script)]\n",
    "    # clean the wine data before converting into json\n",
    "    wine_metadata_1 = str(wine_metadata).split('{\"vintage\"')[1]\n",
    "    wine_metadata_1 = '{\"vintage\"' + wine_metadata_1\n",
    "    \n",
    "#     import json\n",
    "    wine_metadata_2 = wine_metadata_1.rsplit(',\"sold_out', 1)[0]\n",
    "    wine_metadata_2 = wine_metadata_2 + '}'\n",
    "\n",
    "    \n",
    "    # insert wine data into dataframe\n",
    "    try:\n",
    "        import json\n",
    "        json = json.loads(wine_metadata_2)\n",
    "        wine_df.loc[i] = [json['wine']['name'],\n",
    "            json['vintage']['wine']['winery']['name'],\n",
    "            json['wine']['region']['name'],\n",
    "            json['wine']['region']['country']['name'],\n",
    "            json['vintage']['statistics']['ratings_average'],\n",
    "            json['vintage']['statistics']['ratings_count'],\n",
    "            json['price']['amount'],\n",
    "            json['vintage']['year']\n",
    "] \n",
    "            \n",
    "        print(i,'_____',json['wine']['name'])\n",
    "    except:\n",
    "        pass\n",
    "        print(\"Can't extract\")"
   ]
  },
  {
   "cell_type": "code",
   "execution_count": null,
   "id": "362a3823",
   "metadata": {},
   "outputs": [],
   "source": [
    "# save dessert wine data to csv\n",
    "wine_df.to_csv('dessert_wine.csv')"
   ]
  },
  {
   "cell_type": "code",
   "execution_count": null,
   "id": "fe545c5f",
   "metadata": {},
   "outputs": [],
   "source": [
    "# delete wine dataframe\n",
    "del(wine_df)"
   ]
  },
  {
   "cell_type": "code",
   "execution_count": null,
   "id": "ffbfca08",
   "metadata": {},
   "outputs": [],
   "source": [
    "# close selenium browser\n",
    "driver.close()"
   ]
  },
  {
   "cell_type": "markdown",
   "id": "0e14d119",
   "metadata": {},
   "source": [
    "# Extract Red Wine"
   ]
  },
  {
   "cell_type": "code",
   "execution_count": null,
   "id": "c501ed7a",
   "metadata": {},
   "outputs": [],
   "source": [
    "# Open Chrome Selenium Browser\n",
    "driver = webdriver.Chrome(executable_path=r'./chromedriver')\n",
    "driver.get(\"https://www.vivino.com/GB/en\")"
   ]
  },
  {
   "cell_type": "code",
   "execution_count": null,
   "id": "3cdde4a8",
   "metadata": {
    "ExecuteTime": {
     "end_time": "2022-11-02T17:25:06.455701Z",
     "start_time": "2022-11-02T17:25:03.671066Z"
    }
   },
   "outputs": [],
   "source": [
    "# select red wine category\n",
    "select_red_wine()"
   ]
  },
  {
   "cell_type": "code",
   "execution_count": null,
   "id": "04eed514",
   "metadata": {
    "ExecuteTime": {
     "end_time": "2022-11-02T17:25:15.975663Z",
     "start_time": "2022-11-02T17:25:12.530831Z"
    },
    "scrolled": true
   },
   "outputs": [],
   "source": [
    "# deselect white wine category\n",
    "deselect_white_wine()"
   ]
  },
  {
   "cell_type": "code",
   "execution_count": null,
   "id": "d6498067",
   "metadata": {
    "ExecuteTime": {
     "end_time": "2022-11-02T17:28:11.385458Z",
     "start_time": "2022-11-02T17:28:03.717812Z"
    },
    "scrolled": false
   },
   "outputs": [],
   "source": [
    "# select all price range\n",
    "set_price_range()"
   ]
  },
  {
   "cell_type": "code",
   "execution_count": null,
   "id": "42c22291",
   "metadata": {
    "ExecuteTime": {
     "end_time": "2022-11-02T17:28:13.650596Z",
     "start_time": "2022-11-02T17:28:11.396896Z"
    }
   },
   "outputs": [],
   "source": [
    "# select only highest rating wine\n",
    "select_highest_rating()"
   ]
  },
  {
   "cell_type": "code",
   "execution_count": null,
   "id": "5adad65e",
   "metadata": {
    "ExecuteTime": {
     "end_time": "2022-11-02T17:27:19.270054Z",
     "start_time": "2022-11-02T17:26:52.317313Z"
    },
    "scrolled": false
   },
   "outputs": [],
   "source": [
    "# extract all individual link of white wine\n",
    "extract_all_wine_link()"
   ]
  },
  {
   "cell_type": "code",
   "execution_count": null,
   "id": "776465c4",
   "metadata": {
    "ExecuteTime": {
     "end_time": "2022-11-02T15:51:45.460698Z",
     "start_time": "2022-11-02T15:41:57.304574Z"
    },
    "scrolled": true
   },
   "outputs": [],
   "source": [
    "# Create dataframe to insert the wine data\n",
    "wine_df = pd.DataFrame(columns = ['Name',\n",
    "                            'Company',\n",
    "                            'Origin',\n",
    "                            'Region',\n",
    "                            'Rating',\n",
    "                            'Number of rating',\n",
    "                            'Price',\n",
    "                            'Year'])\n",
    "\n",
    "# locate element containing wine link\n",
    "wine_items = driver.find_elements(By.XPATH,'//a[contains(@class,\"anchor_anchor__m8Qi- wineCard__cardLink--3F_uB\")]')\n",
    "# create a list to store wine lines\n",
    "wine_items_urls = []\n",
    "# insert link into the list\n",
    "for link in wine_items:\n",
    "    wine_items_urls.append(link.get_attribute('href'))\n",
    "     \n",
    "# wine_items_urls = wine_items_urls_bkp\n",
    "\n",
    "for i in range(len(wine_items_urls)):\n",
    "    # get information from wine individual page and extract using Beautifulsoup\n",
    "    headers = {\"User-agent\":\"Mozilla/5.0 (Macintosh; Intel Mac OS X 10_15_7) AppleWebKit/537.36 (KHTML, like Gecko) Chrome/95.0.4638.54 Safari/537.36\"}\n",
    "    page = requests.get(wine_items_urls[i],headers=headers)\n",
    "    parsed_html = BeautifulSoup(page.content, features=\"html.parser\")\n",
    "    # extract the <script> tag from the html\n",
    "    wine_script = parsed_html.find_all(\"script\")\n",
    "    # find the correct index to extract the wine information\n",
    "    wine_metadata = wine_script[find_metadata(wine_script)]\n",
    "    # clean the wine data before converting into json\n",
    "    wine_metadata_1 = str(wine_metadata).split('{\"vintage\"')[1]\n",
    "    wine_metadata_1 = '{\"vintage\"' + wine_metadata_1\n",
    "    \n",
    "#     import json\n",
    "    wine_metadata_2 = wine_metadata_1.rsplit(',\"sold_out', 1)[0]\n",
    "    wine_metadata_2 = wine_metadata_2 + '}'\n",
    "\n",
    "    \n",
    "    # insert wine data into dataframe\n",
    "    try:\n",
    "        import json\n",
    "        json = json.loads(wine_metadata_2)\n",
    "        wine_df.loc[i] = [json['wine']['name'],\n",
    "            json['vintage']['wine']['winery']['name'],\n",
    "            json['wine']['region']['name'],\n",
    "            json['wine']['region']['country']['name'],\n",
    "            json['vintage']['statistics']['ratings_average'],\n",
    "            json['vintage']['statistics']['ratings_count'],\n",
    "            json['price']['amount'],\n",
    "            json['vintage']['year']\n",
    "] \n",
    "            \n",
    "        print(i,'_____',json['wine']['name'])\n",
    "    except:\n",
    "        pass\n",
    "        print(\"Can't extract\")"
   ]
  },
  {
   "cell_type": "code",
   "execution_count": null,
   "id": "01008cc4",
   "metadata": {},
   "outputs": [],
   "source": [
    "# save red wine data to csv\n",
    "wine_df.to_csv('red_wine.csv')"
   ]
  },
  {
   "cell_type": "code",
   "execution_count": null,
   "id": "ffd4353e",
   "metadata": {},
   "outputs": [],
   "source": [
    "# delete wine dataframe\n",
    "del(wine_df)"
   ]
  },
  {
   "cell_type": "code",
   "execution_count": null,
   "id": "d682d190",
   "metadata": {},
   "outputs": [],
   "source": [
    "# close selenium browser\n",
    "driver.close()"
   ]
  },
  {
   "cell_type": "markdown",
   "id": "9bd090e0",
   "metadata": {},
   "source": [
    "## After finish extracting the red wine, close the selenium chrome browser then continue with the below code. By opening a new selenium chrome window and do the same steps as above"
   ]
  },
  {
   "cell_type": "markdown",
   "id": "5f5a49ae",
   "metadata": {},
   "source": [
    "# Extract White Wine"
   ]
  },
  {
   "cell_type": "code",
   "execution_count": null,
   "id": "12659d42",
   "metadata": {
    "ExecuteTime": {
     "end_time": "2022-11-02T17:31:43.627022Z",
     "start_time": "2022-11-02T17:31:20.219005Z"
    }
   },
   "outputs": [],
   "source": [
    "# Open Chrome Selenium Browser\n",
    "driver = webdriver.Chrome(executable_path=r'./chromedriver')\n",
    "driver.get(\"https://www.vivino.com/GB/en\")\n",
    "driver.maximize_window()"
   ]
  },
  {
   "cell_type": "code",
   "execution_count": null,
   "id": "ea7e60b8",
   "metadata": {
    "ExecuteTime": {
     "end_time": "2022-11-02T17:31:55.571233Z",
     "start_time": "2022-11-02T17:31:52.689347Z"
    }
   },
   "outputs": [],
   "source": [
    "# select wine category\n",
    "select_wine_from_homepage()"
   ]
  },
  {
   "cell_type": "code",
   "execution_count": null,
   "id": "b5da51a3",
   "metadata": {
    "ExecuteTime": {
     "end_time": "2022-11-02T17:32:24.732910Z",
     "start_time": "2022-11-02T17:32:22.250608Z"
    }
   },
   "outputs": [],
   "source": [
    "# deselect red wine\n",
    "deselect_red_wine()"
   ]
  },
  {
   "cell_type": "code",
   "execution_count": null,
   "id": "05c1d3f2",
   "metadata": {
    "ExecuteTime": {
     "end_time": "2022-11-02T17:32:04.958014Z",
     "start_time": "2022-11-02T17:31:56.369929Z"
    },
    "scrolled": true
   },
   "outputs": [],
   "source": [
    "# select all price range\n",
    "set_price_range()"
   ]
  },
  {
   "cell_type": "code",
   "execution_count": null,
   "id": "95d72345",
   "metadata": {
    "ExecuteTime": {
     "end_time": "2022-11-02T17:32:31.198879Z",
     "start_time": "2022-11-02T17:32:28.884958Z"
    }
   },
   "outputs": [],
   "source": [
    "# select only highest rating wine\n",
    "select_highest_rating()"
   ]
  },
  {
   "cell_type": "code",
   "execution_count": null,
   "id": "94f812f2",
   "metadata": {},
   "outputs": [],
   "source": [
    "# extract all individual link of white wine\n",
    "extract_all_wine_link()"
   ]
  },
  {
   "cell_type": "code",
   "execution_count": null,
   "id": "276e0c03",
   "metadata": {
    "ExecuteTime": {
     "end_time": "2022-11-02T17:33:18.285534Z",
     "start_time": "2022-11-02T17:32:44.946311Z"
    },
    "scrolled": true
   },
   "outputs": [],
   "source": [
    "# Create dataframe to insert the wine data\n",
    "wine_df = pd.DataFrame(columns = ['Name',\n",
    "                            'Company',\n",
    "                            'Origin',\n",
    "                            'Region',\n",
    "                            'Rating',\n",
    "                            'Number of rating',\n",
    "                            'Price',\n",
    "                            'Year'])\n",
    "\n",
    "# locate element containing wine link\n",
    "wine_items = driver.find_elements(By.XPATH,'//a[contains(@class,\"anchor_anchor__m8Qi- wineCard__cardLink--3F_uB\")]')\n",
    "# create a list to store wine lines\n",
    "wine_items_urls = []\n",
    "# insert link into the list\n",
    "for link in wine_items:\n",
    "    wine_items_urls.append(link.get_attribute('href'))\n",
    "     \n",
    "# wine_items_urls = wine_items_urls_bkp\n",
    "\n",
    "for i in range(len(wine_items_urls)):\n",
    "    # get information from wine individual page and extract using Beautifulsoup\n",
    "    headers = {\"User-agent\":\"Mozilla/5.0 (Macintosh; Intel Mac OS X 10_15_7) AppleWebKit/537.36 (KHTML, like Gecko) Chrome/95.0.4638.54 Safari/537.36\"}\n",
    "    page = requests.get(wine_items_urls[i],headers=headers)\n",
    "    parsed_html = BeautifulSoup(page.content, features=\"html.parser\")\n",
    "    # extract the <script> tag from the html\n",
    "    wine_script = parsed_html.find_all(\"script\")\n",
    "    # find the correct index to extract the wine information\n",
    "    wine_metadata = wine_script[find_metadata(wine_script)]\n",
    "    # clean the wine data before converting into json\n",
    "    wine_metadata_1 = str(wine_metadata).split('{\"vintage\"')[1]\n",
    "    wine_metadata_1 = '{\"vintage\"' + wine_metadata_1\n",
    "    \n",
    "#     import json\n",
    "    wine_metadata_2 = wine_metadata_1.rsplit(',\"sold_out', 1)[0]\n",
    "    wine_metadata_2 = wine_metadata_2 + '}'\n",
    "\n",
    "    \n",
    "    # insert wine data into dataframe\n",
    "    try:\n",
    "        import json\n",
    "        json = json.loads(wine_metadata_2)\n",
    "        wine_df.loc[i] = [json['wine']['name'],\n",
    "            json['vintage']['wine']['winery']['name'],\n",
    "            json['wine']['region']['name'],\n",
    "            json['wine']['region']['country']['name'],\n",
    "            json['vintage']['statistics']['ratings_average'],\n",
    "            json['vintage']['statistics']['ratings_count'],\n",
    "            json['price']['amount'],\n",
    "            json['vintage']['year']\n",
    "] \n",
    "            \n",
    "        print(i,'_____',json['wine']['name'])\n",
    "    except:\n",
    "        pass\n",
    "        print(\"Can't extract\")"
   ]
  },
  {
   "cell_type": "code",
   "execution_count": null,
   "id": "9ed4bf78",
   "metadata": {
    "ExecuteTime": {
     "end_time": "2022-11-02T17:30:02.929949Z",
     "start_time": "2022-11-02T17:30:02.916868Z"
    }
   },
   "outputs": [],
   "source": [
    "# save white wine data to csv\n",
    "wine_df.to_csv('white_wine.csv')"
   ]
  },
  {
   "cell_type": "code",
   "execution_count": null,
   "id": "efb68896",
   "metadata": {
    "ExecuteTime": {
     "end_time": "2022-11-02T17:34:08.304038Z",
     "start_time": "2022-11-02T17:34:08.300516Z"
    }
   },
   "outputs": [],
   "source": [
    "# delete wine dataframe\n",
    "del(wine_df)"
   ]
  },
  {
   "cell_type": "code",
   "execution_count": null,
   "id": "f31fa09c",
   "metadata": {
    "ExecuteTime": {
     "end_time": "2022-11-02T17:34:08.888115Z",
     "start_time": "2022-11-02T17:34:08.743955Z"
    }
   },
   "outputs": [],
   "source": [
    "# close selenium browser\n",
    "driver.close()"
   ]
  },
  {
   "cell_type": "markdown",
   "id": "fdb46910",
   "metadata": {},
   "source": [
    "# Extract Sparkling Wine"
   ]
  },
  {
   "cell_type": "code",
   "execution_count": null,
   "id": "c5e677a1",
   "metadata": {
    "ExecuteTime": {
     "end_time": "2022-11-02T17:34:34.564057Z",
     "start_time": "2022-11-02T17:34:10.346922Z"
    }
   },
   "outputs": [],
   "source": [
    "# Open Chrome Selenium Browser\n",
    "driver = webdriver.Chrome(executable_path=r'./chromedriver')\n",
    "driver.get(\"https://www.vivino.com/GB/en\")\n",
    "driver.maximize_window()"
   ]
  },
  {
   "cell_type": "code",
   "execution_count": null,
   "id": "8ae50e0a",
   "metadata": {
    "ExecuteTime": {
     "end_time": "2022-11-02T17:34:53.968283Z",
     "start_time": "2022-11-02T17:34:51.073979Z"
    }
   },
   "outputs": [],
   "source": [
    "# select wine category\n",
    "select_wine_from_homepage()"
   ]
  },
  {
   "cell_type": "code",
   "execution_count": null,
   "id": "678a561c",
   "metadata": {
    "ExecuteTime": {
     "end_time": "2022-11-02T17:35:14.960009Z",
     "start_time": "2022-11-02T17:35:11.916052Z"
    }
   },
   "outputs": [],
   "source": [
    "# deselect white wine\n",
    "deselect_white_wine()"
   ]
  },
  {
   "cell_type": "code",
   "execution_count": null,
   "id": "26115220",
   "metadata": {
    "ExecuteTime": {
     "end_time": "2022-11-02T17:35:17.656306Z",
     "start_time": "2022-11-02T17:35:15.378718Z"
    }
   },
   "outputs": [],
   "source": [
    "# deselect red wine\n",
    "deselect_red_wine()"
   ]
  },
  {
   "cell_type": "code",
   "execution_count": null,
   "id": "a6846278",
   "metadata": {
    "ExecuteTime": {
     "end_time": "2022-11-02T17:35:22.326032Z",
     "start_time": "2022-11-02T17:35:20.088203Z"
    }
   },
   "outputs": [],
   "source": [
    "# select sparkling wine\n",
    "select_sparkling_wine()"
   ]
  },
  {
   "cell_type": "code",
   "execution_count": null,
   "id": "7ab5e107",
   "metadata": {
    "ExecuteTime": {
     "end_time": "2022-11-02T17:35:30.944986Z",
     "start_time": "2022-11-02T17:35:24.089387Z"
    }
   },
   "outputs": [],
   "source": [
    "# select all price range\n",
    "set_price_range()"
   ]
  },
  {
   "cell_type": "code",
   "execution_count": null,
   "id": "c8212cbb",
   "metadata": {
    "ExecuteTime": {
     "end_time": "2022-11-02T17:35:40.347509Z",
     "start_time": "2022-11-02T17:35:37.972065Z"
    }
   },
   "outputs": [],
   "source": [
    "# select only highest rating wine\n",
    "select_highest_rating()"
   ]
  },
  {
   "cell_type": "code",
   "execution_count": null,
   "id": "fe51bbf9",
   "metadata": {},
   "outputs": [],
   "source": [
    "# extract all individual link of white wine\n",
    "extract_all_wine_link()"
   ]
  },
  {
   "cell_type": "code",
   "execution_count": null,
   "id": "26f0da2d",
   "metadata": {
    "ExecuteTime": {
     "end_time": "2022-11-02T17:36:38.075787Z",
     "start_time": "2022-11-02T17:36:15.050759Z"
    },
    "scrolled": true
   },
   "outputs": [],
   "source": [
    "# Create dataframe to insert the wine data\n",
    "wine_df = pd.DataFrame(columns = ['Name',\n",
    "                            'Company',\n",
    "                            'Origin',\n",
    "                            'Region',\n",
    "                            'Rating',\n",
    "                            'Number of rating',\n",
    "                            'Price',\n",
    "                            'Year'])\n",
    "\n",
    "# locate element containing wine link\n",
    "wine_items = driver.find_elements(By.XPATH,'//a[contains(@class,\"anchor_anchor__m8Qi- wineCard__cardLink--3F_uB\")]')\n",
    "# create a list to store wine lines\n",
    "wine_items_urls = []\n",
    "# insert link into the list\n",
    "for link in wine_items:\n",
    "    wine_items_urls.append(link.get_attribute('href'))\n",
    "     \n",
    "# wine_items_urls = wine_items_urls_bkp\n",
    "\n",
    "for i in range(len(wine_items_urls)):\n",
    "    # get information from wine individual page and extract using Beautifulsoup\n",
    "    headers = {\"User-agent\":\"Mozilla/5.0 (Macintosh; Intel Mac OS X 10_15_7) AppleWebKit/537.36 (KHTML, like Gecko) Chrome/95.0.4638.54 Safari/537.36\"}\n",
    "    page = requests.get(wine_items_urls[i],headers=headers)\n",
    "    parsed_html = BeautifulSoup(page.content, features=\"html.parser\")\n",
    "    # extract the <script> tag from the html\n",
    "    wine_script = parsed_html.find_all(\"script\")\n",
    "    # find the correct index to extract the wine information\n",
    "    wine_metadata = wine_script[find_metadata(wine_script)]\n",
    "    # clean the wine data before converting into json\n",
    "    wine_metadata_1 = str(wine_metadata).split('{\"vintage\"')[1]\n",
    "    wine_metadata_1 = '{\"vintage\"' + wine_metadata_1\n",
    "    \n",
    "#     import json\n",
    "    wine_metadata_2 = wine_metadata_1.rsplit(',\"sold_out', 1)[0]\n",
    "    wine_metadata_2 = wine_metadata_2 + '}'\n",
    "\n",
    "    \n",
    "    # insert wine data into dataframe\n",
    "    try:\n",
    "        import json\n",
    "        json = json.loads(wine_metadata_2)\n",
    "        wine_df.loc[i] = [json['wine']['name'],\n",
    "            json['vintage']['wine']['winery']['name'],\n",
    "            json['wine']['region']['name'],\n",
    "            json['wine']['region']['country']['name'],\n",
    "            json['vintage']['statistics']['ratings_average'],\n",
    "            json['vintage']['statistics']['ratings_count'],\n",
    "            json['price']['amount'],\n",
    "            json['vintage']['year']\n",
    "] \n",
    "            \n",
    "        print(i,'_____',json['wine']['name'])\n",
    "    except:\n",
    "        pass\n",
    "        print(\"Can't extract\")"
   ]
  },
  {
   "cell_type": "code",
   "execution_count": null,
   "id": "0cf205ff",
   "metadata": {
    "ExecuteTime": {
     "end_time": "2022-11-02T17:37:52.255843Z",
     "start_time": "2022-11-02T17:37:52.242572Z"
    }
   },
   "outputs": [],
   "source": [
    "# save sparkling wine data to csv\n",
    "wine_df.to_csv('sparkling_wine.csv')"
   ]
  },
  {
   "cell_type": "code",
   "execution_count": null,
   "id": "e80c0d34",
   "metadata": {
    "ExecuteTime": {
     "end_time": "2022-11-02T17:37:56.854510Z",
     "start_time": "2022-11-02T17:37:56.851044Z"
    }
   },
   "outputs": [],
   "source": [
    "# delete wine dataframe\n",
    "del(wine_df)"
   ]
  },
  {
   "cell_type": "code",
   "execution_count": null,
   "id": "ed8306bc",
   "metadata": {
    "ExecuteTime": {
     "end_time": "2022-11-02T17:37:57.909543Z",
     "start_time": "2022-11-02T17:37:57.773606Z"
    }
   },
   "outputs": [],
   "source": [
    "# close selenium browser\n",
    "driver.close()"
   ]
  },
  {
   "cell_type": "markdown",
   "id": "a1e8c9f8",
   "metadata": {},
   "source": [
    "# Extract Rose Wine"
   ]
  },
  {
   "cell_type": "code",
   "execution_count": null,
   "id": "8ac44a9f",
   "metadata": {
    "ExecuteTime": {
     "end_time": "2022-11-02T17:41:11.400291Z",
     "start_time": "2022-11-02T17:40:48.851507Z"
    },
    "scrolled": true
   },
   "outputs": [],
   "source": [
    "# Open Chrome Selenium Browser\n",
    "driver = webdriver.Chrome(executable_path=r'./chromedriver')\n",
    "driver.get(\"https://www.vivino.com/GB/en\")\n",
    "driver.maximize_window()"
   ]
  },
  {
   "cell_type": "code",
   "execution_count": null,
   "id": "7b2c69f8",
   "metadata": {
    "ExecuteTime": {
     "end_time": "2022-11-02T17:41:25.179425Z",
     "start_time": "2022-11-02T17:41:22.262620Z"
    }
   },
   "outputs": [],
   "source": [
    "# select wine category\n",
    "select_wine_from_homepage()"
   ]
  },
  {
   "cell_type": "code",
   "execution_count": null,
   "id": "0a60e8c4",
   "metadata": {
    "ExecuteTime": {
     "end_time": "2022-11-02T17:41:34.775158Z",
     "start_time": "2022-11-02T17:41:31.662486Z"
    }
   },
   "outputs": [],
   "source": [
    "# deselect red wine\n",
    "deselect_red_wine()"
   ]
  },
  {
   "cell_type": "code",
   "execution_count": null,
   "id": "3dd59bf7",
   "metadata": {
    "ExecuteTime": {
     "end_time": "2022-11-02T17:41:37.778494Z",
     "start_time": "2022-11-02T17:41:35.493421Z"
    }
   },
   "outputs": [],
   "source": [
    "# deselect white wine\n",
    "deselect_white_wine()"
   ]
  },
  {
   "cell_type": "code",
   "execution_count": null,
   "id": "96b47828",
   "metadata": {
    "ExecuteTime": {
     "end_time": "2022-11-02T17:42:18.877533Z",
     "start_time": "2022-11-02T17:42:16.430297Z"
    }
   },
   "outputs": [],
   "source": [
    "# select rose wine\n",
    "select_rose_wine()"
   ]
  },
  {
   "cell_type": "code",
   "execution_count": null,
   "id": "d23456f8",
   "metadata": {
    "ExecuteTime": {
     "end_time": "2022-11-02T17:42:38.428138Z",
     "start_time": "2022-11-02T17:42:36.180824Z"
    }
   },
   "outputs": [],
   "source": [
    "# select all wine rating\n",
    "select_all_rating()"
   ]
  },
  {
   "cell_type": "code",
   "execution_count": null,
   "id": "bc65e435",
   "metadata": {},
   "outputs": [],
   "source": [
    "# select all price range\n",
    "set_price_range()"
   ]
  },
  {
   "cell_type": "code",
   "execution_count": null,
   "id": "72f50e1e",
   "metadata": {
    "ExecuteTime": {
     "end_time": "2022-11-02T17:43:29.795456Z",
     "start_time": "2022-11-02T17:42:47.141327Z"
    }
   },
   "outputs": [],
   "source": [
    "# extract all individual link of white wine\n",
    "extract_all_wine_link()"
   ]
  },
  {
   "cell_type": "code",
   "execution_count": null,
   "id": "e363acd1",
   "metadata": {
    "ExecuteTime": {
     "end_time": "2022-11-02T17:48:36.056893Z",
     "start_time": "2022-11-02T17:44:00.032707Z"
    },
    "scrolled": true
   },
   "outputs": [],
   "source": [
    "# Create dataframe to insert the wine data\n",
    "wine_df = pd.DataFrame(columns = ['Name',\n",
    "                            'Company',\n",
    "                            'Origin',\n",
    "                            'Region',\n",
    "                            'Rating',\n",
    "                            'Number of rating',\n",
    "                            'Price',\n",
    "                            'Year'])\n",
    "\n",
    "# locate element containing wine link\n",
    "wine_items = driver.find_elements(By.XPATH,'//a[contains(@class,\"anchor_anchor__m8Qi- wineCard__cardLink--3F_uB\")]')\n",
    "# create a list to store wine lines\n",
    "wine_items_urls = []\n",
    "# insert link into the list\n",
    "for link in wine_items:\n",
    "    wine_items_urls.append(link.get_attribute('href'))\n",
    "     \n",
    "# wine_items_urls = wine_items_urls_bkp\n",
    "\n",
    "for i in range(len(wine_items_urls)):\n",
    "    # get information from wine individual page and extract using Beautifulsoup\n",
    "    headers = {\"User-agent\":\"Mozilla/5.0 (Macintosh; Intel Mac OS X 10_15_7) AppleWebKit/537.36 (KHTML, like Gecko) Chrome/95.0.4638.54 Safari/537.36\"}\n",
    "    page = requests.get(wine_items_urls[i],headers=headers)\n",
    "    parsed_html = BeautifulSoup(page.content, features=\"html.parser\")\n",
    "    # extract the <script> tag from the html\n",
    "    wine_script = parsed_html.find_all(\"script\")\n",
    "    # find the correct index to extract the wine information\n",
    "    wine_metadata = wine_script[find_metadata(wine_script)]\n",
    "    # clean the wine data before converting into json\n",
    "    wine_metadata_1 = str(wine_metadata).split('{\"vintage\"')[1]\n",
    "    wine_metadata_1 = '{\"vintage\"' + wine_metadata_1\n",
    "    \n",
    "#     import json\n",
    "    wine_metadata_2 = wine_metadata_1.rsplit(',\"sold_out', 1)[0]\n",
    "    wine_metadata_2 = wine_metadata_2 + '}'\n",
    "\n",
    "    \n",
    "    # insert wine data into dataframe\n",
    "    try:\n",
    "        import json\n",
    "        json = json.loads(wine_metadata_2)\n",
    "        wine_df.loc[i] = [json['wine']['name'],\n",
    "            json['vintage']['wine']['winery']['name'],\n",
    "            json['wine']['region']['name'],\n",
    "            json['wine']['region']['country']['name'],\n",
    "            json['vintage']['statistics']['ratings_average'],\n",
    "            json['vintage']['statistics']['ratings_count'],\n",
    "            json['price']['amount'],\n",
    "            json['vintage']['year']\n",
    "] \n",
    "            \n",
    "        print(i,'_____',json['wine']['name'])\n",
    "    except:\n",
    "        pass\n",
    "        print(\"Can't extract\")"
   ]
  },
  {
   "cell_type": "code",
   "execution_count": null,
   "id": "e6e91e9f",
   "metadata": {
    "ExecuteTime": {
     "end_time": "2022-11-02T17:49:09.311798Z",
     "start_time": "2022-11-02T17:49:09.284033Z"
    }
   },
   "outputs": [],
   "source": [
    "# save rose wine data to csv\n",
    "wine_df.to_csv('rose_wine.csv')"
   ]
  },
  {
   "cell_type": "code",
   "execution_count": null,
   "id": "0eb21fdd",
   "metadata": {
    "ExecuteTime": {
     "end_time": "2022-11-02T17:49:38.903339Z",
     "start_time": "2022-11-02T17:49:38.900781Z"
    }
   },
   "outputs": [],
   "source": [
    "# delete wine dataframe\n",
    "del(wine_df)"
   ]
  },
  {
   "cell_type": "code",
   "execution_count": null,
   "id": "aa8498b5",
   "metadata": {
    "ExecuteTime": {
     "end_time": "2022-11-02T17:49:39.367541Z",
     "start_time": "2022-11-02T17:49:39.205016Z"
    }
   },
   "outputs": [],
   "source": [
    "# close selenium browser\n",
    "driver.close()"
   ]
  },
  {
   "cell_type": "markdown",
   "id": "e816cb72",
   "metadata": {},
   "source": [
    "# Combine All Wine Type"
   ]
  },
  {
   "cell_type": "code",
   "execution_count": null,
   "id": "644f81c3",
   "metadata": {
    "ExecuteTime": {
     "end_time": "2022-11-02T19:03:17.727412Z",
     "start_time": "2022-11-02T19:03:17.670702Z"
    }
   },
   "outputs": [],
   "source": [
    "# read all wine csv\n",
    "red_wine = pd.read_csv('red_wine.csv')\n",
    "white_wine = pd.read_csv('white_wine.csv')\n",
    "dessert_wine = pd.read_csv('dessert_wine.csv')\n",
    "rose_wine = pd.read_csv('rose_wine.csv')\n",
    "fortified_wine = pd.read_csv('fortified_wine.csv')"
   ]
  },
  {
   "cell_type": "code",
   "execution_count": null,
   "id": "f06d41dc",
   "metadata": {
    "ExecuteTime": {
     "end_time": "2022-11-02T19:03:20.223706Z",
     "start_time": "2022-11-02T19:03:20.207336Z"
    }
   },
   "outputs": [],
   "source": [
    "# create another column to identify wine type\n",
    "dessert_wine.loc[:, 'wine_type'] = 'dessert wine'\n",
    "rose_wine.loc[:, 'wine_type'] = 'rose wine'\n",
    "fortified_wine.loc[:, 'wine_type'] = 'fortified wine'\n",
    "red_wine.loc[:, 'wine_type'] = 'red wine'\n",
    "white_wine.loc[:, 'wine_type'] = 'white wine'"
   ]
  },
  {
   "cell_type": "code",
   "execution_count": null,
   "id": "5e2bd233",
   "metadata": {
    "ExecuteTime": {
     "end_time": "2022-11-02T19:03:22.010777Z",
     "start_time": "2022-11-02T19:03:21.980085Z"
    }
   },
   "outputs": [],
   "source": [
    "# combine all wine data together\n",
    "wine = pd.concat((red_wine, white_wine,dessert_wine, rose_wine, fortified_wine), axis=0)\n",
    "wine.head()"
   ]
  },
  {
   "cell_type": "code",
   "execution_count": null,
   "id": "7fc2cc95",
   "metadata": {
    "ExecuteTime": {
     "end_time": "2022-11-02T19:03:27.561147Z",
     "start_time": "2022-11-02T19:03:27.437635Z"
    }
   },
   "outputs": [],
   "source": [
    "# export combined wine dataframe to csv\n",
    "wine.to_csv('wine_concat.csv')"
   ]
  }
 ],
 "metadata": {
  "kernelspec": {
   "display_name": "Python 3 (ipykernel)",
   "language": "python",
   "name": "python3"
  },
  "language_info": {
   "codemirror_mode": {
    "name": "ipython",
    "version": 3
   },
   "file_extension": ".py",
   "mimetype": "text/x-python",
   "name": "python",
   "nbconvert_exporter": "python",
   "pygments_lexer": "ipython3",
   "version": "3.8.13"
  },
  "toc": {
   "base_numbering": 1,
   "nav_menu": {},
   "number_sections": true,
   "sideBar": true,
   "skip_h1_title": false,
   "title_cell": "Table of Contents",
   "title_sidebar": "Contents",
   "toc_cell": false,
   "toc_position": {},
   "toc_section_display": true,
   "toc_window_display": false
  },
  "varInspector": {
   "cols": {
    "lenName": 16,
    "lenType": 16,
    "lenVar": 40
   },
   "kernels_config": {
    "python": {
     "delete_cmd_postfix": "",
     "delete_cmd_prefix": "del ",
     "library": "var_list.py",
     "varRefreshCmd": "print(var_dic_list())"
    },
    "r": {
     "delete_cmd_postfix": ") ",
     "delete_cmd_prefix": "rm(",
     "library": "var_list.r",
     "varRefreshCmd": "cat(var_dic_list()) "
    }
   },
   "types_to_exclude": [
    "module",
    "function",
    "builtin_function_or_method",
    "instance",
    "_Feature"
   ],
   "window_display": false
  }
 },
 "nbformat": 4,
 "nbformat_minor": 5
}
